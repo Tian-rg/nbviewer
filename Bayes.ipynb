{
 "cells": [
  {
   "cell_type": "markdown",
   "metadata": {
    "deletable": true,
    "editable": true
   },
   "source": [
    "## 贝叶斯 Bayes"
   ]
  },
  {
   "cell_type": "markdown",
   "metadata": {
    "deletable": true,
    "editable": true
   },
   "source": [
    "### 贝叶斯公式\n",
    "在全概公式的假定下，有$$P(B|A)=P(AB_i)/P(A)=P(B_i)P(A|B_i)/\\sum_{j}P(B_j)P(A|B_j)$$这个公式就叫**贝叶斯公式**。"
   ]
  },
  {
   "cell_type": "markdown",
   "metadata": {
    "deletable": true,
    "editable": true
   },
   "source": [
    "### 全概公式\n",
    "设$B_1$,$B_2$,...为有限或无限个事件，它们两两互斥且在每次试验中至少发生一个。用式表之，即$$B_{i}B_{j}=\\phi(不可能事件)，当i\\neq j$$\n",
    "$$B_{1}+B_{2}+...=\\Omega(必然事件)$$\n",
    "有时把具有这些性质的一组事件成为一个“**完备事件群**”。注意，任一事件$B$及其对立事件组成一个完备事件群。\n",
    "\n",
    "现考虑任一事件$A$。因$\\Omega$为必然事件，有$A=A\\Omega=AB_{1}+AB_{2}+...$两两互斥，显然$AB_{1},AB_{2},...$也两两互斥。故依**加法定理**，有$$P(A)=P(AB_{1})+P(AB_{2})+...$$再由**条件概率**的定义，有$P(AB_{i})=P(B_{i})P(A|B_{i})$。代入上式得$$P(A)=P(B_{1})P(A|B_{1}+P(B_{2})P(A|B_{2})+...$$"
   ]
  },
  {
   "cell_type": "markdown",
   "metadata": {
    "deletable": true,
    "editable": true
   },
   "source": [
    "### 先验概率、后验概率、似然度、标准化常量\n",
    "*Source:知乎$\\rightarrow$邓旭东HIT$\\rightarrow$用Python实现贝叶斯定理*\n",
    "\n",
    "我觉得在Python实现代码前最好大家能够记住先验概率、后验概率这些概念（如果能理解更好）。对上述贝叶斯定理的理解，还有一种解释思路，叫做“**历时诠释**”。“历时”意味着某些事情随着事件而发生，即假设的概率随着看到新数据而发生变化。\n",
    "\n",
    "在考虑$H(Hypothsis)$和$D(Data)$情况下，贝叶斯定理的表达式可以写成：$$P(H|D)=P(H)P(D|H)/P(D)$$\n",
    "在考虑$H$和$D$的情况下，每项意义如下：\n",
    "\n",
    "> $P(H)$为先验概率，即在得到新数据前某一假设的概率。如没有得到掷硬币结果前，我们先假设正反面概率各为50%。\n",
    "\n",
    "> $P(H|D)$为后验概率，即在得到新数据后，我们要计算的该假设的概率。\n",
    "\n",
    "> $P(D|H)$是在该假设下得到这一数据的概率，称为似然度。\n",
    "\n",
    "> $P(D)$是在任何假设下得到这一数据的概率，称为标准化常量。"
   ]
  },
  {
   "cell_type": "markdown",
   "metadata": {},
   "source": [
    "### 在Python中实现分析\n",
    "思路如下：\n",
    "> 首先定义Bayes类，初始化创建一个dict类容器container。该容器是为了储存贝叶斯各项信息。\n",
    "key键存储假设，value值存储概率。\n",
    "\n",
    "> Set方法是给容器添加先验假设及先验概率。\n",
    "\n",
    "> Mult方法:根据key查找先验概率，并更新概率。\n",
    "\n",
    "> Normalize方法：归一化（建议大家等会运行代码时候看下有无Normalize的区别，就能理解归一化这一含义）\n",
    "\n",
    "> Prob方法：返回某一事件的概率。\n",
    "\n",
    "代码如下："
   ]
  },
  {
   "cell_type": "code",
   "execution_count": 26,
   "metadata": {
    "collapsed": true
   },
   "outputs": [],
   "source": [
    "class Bayes(object):      #格式：class 类名（从哪个类继承而来）：\n",
    "    \n",
    "    def __init__(self):           #__init__的作用是初始化已实例化后的对象\n",
    "        self.__container = dict() #双下划线前缀的变量将会被Python的名称管理体系视作私有变量\n",
    "                                  #还有一个惯例，如果某个变量只想在类或对象中使用，就应该以单下划线前缀\n",
    "    \n",
    "    def Set(self,hypothis,prob):\n",
    "        self.__container[hypothis]=prob\n",
    "    \n",
    "    def Mult(self,hypothis,prob):\n",
    "        old_prob = self.__container[hypothis]\n",
    "        self.__container[hypothis] =  old_prob*prob\n",
    "    \n",
    "    def Normalize(self):\n",
    "        count = 0\n",
    "        for hypothis in self.__container.values():\n",
    "            count = count + hypothis      #此处实际上计算P(D)，实现了全概公式\n",
    "        for hypothis,prob in self.__container.items():\n",
    "            self.__container[hypothis] = self.__container[hypothis]/count \n",
    "    \n",
    "    def Prob(self,hypothis):\n",
    "        Prob = self.__container[hypothis]\n",
    "        return Prob"
   ]
  },
  {
   "cell_type": "markdown",
   "metadata": {},
   "source": [
    "### 用Python解下曲奇饼题"
   ]
  },
  {
   "cell_type": "markdown",
   "metadata": {},
   "source": [
    "**例：** 假设有两碗曲奇饼，碗A包含30个香草曲奇饼和10个巧克力曲奇饼，碗B这两种曲奇饼各20个。现在假设你在不看的情况下随机地挑一个碗拿一块饼，得到了已块香草曲奇饼。\n",
    "\n",
    "**问题：** 从碗A取到香草曲奇饼的概率是多少？"
   ]
  },
  {
   "cell_type": "code",
   "execution_count": 25,
   "metadata": {
    "collapsed": false
   },
   "outputs": [
    {
     "name": "stdout",
     "output_type": "stream",
     "text": [
      "从碗A取到香草曲奇饼的概率：0.6\n"
     ]
    }
   ],
   "source": [
    "bayes = Bayes()       #实例化Bayes类\n",
    "bayes.Set('Bow_A',0.5)    #P(碗A)=1/2\n",
    "bayes.Set('Bow_B',0.5)    #P(碗B)=1/2\n",
    "bayes.Mult('Bow_A',0.75)   #P(香草饼|碗A)=3/4\n",
    "bayes.Mult('Bow_B',0.5)    #P(香草饼|碗B)=1/2\n",
    "bayes.Normalize()\n",
    "prob = bayes.Prob('Bow_A') #P(碗A|香草饼)\n",
    "print (\"从碗A取到香草曲奇饼的概率：{}\".format(prob))"
   ]
  },
  {
   "cell_type": "markdown",
   "metadata": {},
   "source": [
    "此处展示了在Jupyter Notebook中添加文本内的链接的两种方法：\n",
    "> [\"贝叶斯公式\"](#贝叶斯公式)\n",
    "\n",
    "> [\"全概公式\"](#全概公式)"
   ]
  }
 ],
 "metadata": {
  "kernelspec": {
   "display_name": "Python 3",
   "language": "python",
   "name": "python3"
  },
  "language_info": {
   "codemirror_mode": {
    "name": "ipython",
    "version": 3
   },
   "file_extension": ".py",
   "mimetype": "text/x-python",
   "name": "python",
   "nbconvert_exporter": "python",
   "pygments_lexer": "ipython3",
   "version": "3.5.3"
  }
 },
 "nbformat": 4,
 "nbformat_minor": 2
}
