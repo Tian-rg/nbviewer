{
 "cells": [
  {
   "cell_type": "markdown",
   "metadata": {},
   "source": [
    "## 安装Git\n",
    "1，搜索Git for windows,下载并默认安装。\n",
    "2，安装成功后，打开Git Bash。\n",
    "3，进一步设置，命令如下：\n",
    "   $ git config -- user.email \"tianruguang@sina.cn\"\n",
    "   $ git config -- user.name \"Tian-rg\""
   ]
  },
  {
   "cell_type": "markdown",
   "metadata": {},
   "source": [
    "## 继续。。。\n",
    "   $ git init       #初始化\n",
    "   $ git learngit   #添加文件\n",
    "   $ cd learngit    #更改文件目录\n",
    "   $ pwd            #显示Present Working Directory\n",
    "   $ git add readme.txt   #创建文件readme.txt\n",
    "   $ git commit -m \"wrote a readme file\""
   ]
  },
  {
   "cell_type": "markdown",
   "metadata": {},
   "source": [
    "## "
   ]
  }
 ],
 "metadata": {
  "kernelspec": {
   "display_name": "Python 3",
   "language": "python",
   "name": "python3"
  },
  "language_info": {
   "codemirror_mode": {
    "name": "ipython",
    "version": 3
   },
   "file_extension": ".py",
   "mimetype": "text/x-python",
   "name": "python",
   "nbconvert_exporter": "python",
   "pygments_lexer": "ipython3",
   "version": "3.5.3"
  }
 },
 "nbformat": 4,
 "nbformat_minor": 2
}
